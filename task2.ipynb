{
  "cells": [
    {
      "cell_type": "code",
      "execution_count": 2,
      "outputs": [],
      "source": "from __future__ import absolute_import\nfrom __future__ import division\n# from __future__ import print_function\n\nimport torch\nfrom torch import nn\nimport torch.nn.functional as F\n\nclass CNN(nn.Module):\n\n    def __init__(self, n_channels, n_classes):\n        \"\"\"\n        Initializes CNN object.\n\n        Args:\n          n_channels: number of input channels\n          n_classes: number of classes of the classification problem\n        \"\"\"\n        super(CNN, self).__init__()\n\n        self.conv1 \u003d nn.Conv2d(3, 64, 3, stride\u003d1, padding\u003d1)\n        self.bn1 \u003d nn.BatchNorm2d(64)\n        self.maxpool1 \u003d nn.MaxPool2d(3, stride\u003d2, padding\u003d1)\n\n        self.conv2 \u003d nn.Conv2d(64, 128, 3, stride\u003d1, padding\u003d1)\n        self.bn2 \u003d nn.BatchNorm2d(128)\n        self.maxpool2 \u003d nn.MaxPool2d(3, stride\u003d2, padding\u003d1)\n\n        self.conv3 \u003d nn.Conv2d(128, 256, 3, stride\u003d1, padding\u003d1)\n        self.bn3 \u003d nn.BatchNorm2d(256)\n\n        self.conv4 \u003d nn.Conv2d(256, 256, 3, stride\u003d1, padding\u003d1)\n        self.bn4 \u003d nn.BatchNorm2d(256)\n\n        self.maxpool3 \u003d nn.MaxPool2d(3, stride\u003d2, padding\u003d1)\n        self.conv5 \u003d nn.Conv2d(256, 512, 3, stride\u003d1, padding\u003d1)\n        self.bn5 \u003d nn.BatchNorm2d(512)\n\n        self.conv6 \u003d nn.Conv2d(512, 512, 3, stride\u003d1, padding\u003d1)\n        self.bn6 \u003d nn.BatchNorm2d(512)\n\n        self.maxpool4 \u003d nn.MaxPool2d(3, stride\u003d2, padding\u003d1)\n        self.conv7 \u003d nn.Conv2d(512, 512, 3, stride\u003d1, padding\u003d1)\n        self.bn7 \u003d nn.BatchNorm2d(512)\n\n        self.conv8 \u003d nn.Conv2d(512, 512, 3, stride\u003d1, padding\u003d1)\n        self.bn8 \u003d nn.BatchNorm2d(512)\n\n        self.maxpool5 \u003d nn.MaxPool2d(3, stride\u003d2, padding\u003d1)\n        self.avgpool \u003d nn.AvgPool2d(1, stride\u003d1, padding\u003d0)\n        self.linear \u003d nn.Linear(512, 10)\n        print(\"init finish\")\n\n    def forward(self, x):\n        \"\"\"\n        Performs forward pass of the input.\n\n        Args:\n          x: input to the network\n        Returns:\n          out: outputs of the network\n        \"\"\"\n        # print(x.size())\n        x \u003d self.conv1(x)\n        # print(\"conv1\", x.size())\n        x \u003d self.bn1(x)\n        # print(\"bn1\", x.size())\n        x \u003d self.maxpool1(F.relu(x))\n        # print(\"maxpool1\", x.size())\n        x \u003d self.conv2(x)\n        # print(\"conv2\", x.size())\n        x \u003d self.bn2(x)\n        # print(\"bn2\", x.size())\n        x \u003d self.maxpool2(F.relu(x))\n        # print(\"maxpool2\", x.size())\n        x \u003d self.conv3(x)\n        # print(\"conv3\", x.size())\n        x \u003d self.bn3(x)\n        # print(\"bn3\", x.size())\n        x \u003d self.conv4(F.relu(x))\n        # print(\"conv4\", x.size())\n        x \u003d self.bn4(x)\n        # print(\"bn4\", x.size())\n        x \u003d self.maxpool3(F.relu(x))\n        # print(\"maxpool3\", x.size())\n        x \u003d self.conv5(x)\n        # print(\"conv5\", x.size())\n        x \u003d self.bn5(x)\n        # print(\"bn5\", x.size())\n        x \u003d self.conv6(F.relu(x))\n        # print(\"conv6\", x.size())\n        x \u003d self.bn6(x)\n        # print(\"bn6\", x.size())\n        x \u003d self.maxpool4(F.relu(x))\n        # print(\"maxpool4\", x.size())\n        x \u003d self.conv7(x)\n        # print(\"conv7\", x.size())\n        x \u003d self.bn7(x)\n        # print(\"bn7\", x.size())\n        x \u003d self.conv8(F.relu(x))\n        # print(\"conv8\", x.size())\n        x \u003d self.bn8(x)\n        # print(\"bn8\", x.size())\n        x \u003d self.maxpool5(F.relu(x))\n        # print(\"maxpool5\", x.size())\n        x \u003d self.avgpool(x)\n        # print(\"avgpool\", x.size())\n        x \u003d torch.squeeze(x)\n        # print(\"squeeze\", x.size())\n        x \u003d self.linear(x)\n        # print(\"linear\", x.size())\n        return x",
      "metadata": {
        "pycharm": {
          "metadata": false,
          "name": "#%%\n",
          "is_executing": false
        }
      }
    },
    {
      "cell_type": "code",
      "execution_count": 3,
      "outputs": [
        {
          "name": "stdout",
          "text": [
            "Files already downloaded and verified\n",
            "data loaded\ninit finish\n0\n",
            "1\n",
            "2\n",
            "3\n",
            "4\n",
            "5\n",
            "6\n",
            "7\n",
            "8\n",
            "9\n",
            "10\n",
            "11\n",
            "12\n",
            "13\n",
            "14\n",
            "15\n",
            "16\n",
            "17\n",
            "18\n",
            "19\n",
            "20\n",
            "21\n",
            "22\n",
            "23\n",
            "24\n",
            "25\n",
            "26\n",
            "27\n",
            "28\n",
            "29\n",
            "30\n",
            "31\n",
            "32\n",
            "33\n",
            "34\n",
            "35\n",
            "36\n",
            "37\n",
            "38\n",
            "39\n",
            "40\n",
            "41\n",
            "42\n",
            "43\n",
            "44\n",
            "45\n",
            "46\n",
            "47\n",
            "48\n",
            "49\n",
            "50\n",
            "51\n",
            "52\n",
            "53\n",
            "54\n",
            "55\n",
            "56\n",
            "57\n",
            "58\n",
            "59\n",
            "60\n",
            "61\n",
            "62\n",
            "63\n",
            "64\n",
            "65\n",
            "66\n",
            "67\n",
            "68\n",
            "69\n",
            "70\n",
            "71\n",
            "72\n",
            "73\n",
            "74\n",
            "75\n",
            "76\n",
            "77\n",
            "78\n",
            "79\n",
            "80\n",
            "81\n",
            "82\n",
            "83\n",
            "84\n",
            "85\n",
            "86\n",
            "87\n",
            "88\n",
            "89\n",
            "90\n",
            "91\n",
            "92\n",
            "93\n",
            "94\n",
            "95\n",
            "96\n",
            "97\n",
            "98\n",
            "99\n",
            "Done training.\nfinish\n"
          ],
          "output_type": "stream"
        },
        {
          "name": "stderr",
          "text": [
            "D:\\anaconda\\lib\\site-packages\\ipykernel_launcher.py:82: UserWarning: torch.nn.utils.clip_grad_norm is now deprecated in favor of torch.nn.utils.clip_grad_norm_.\n"
          ],
          "output_type": "stream"
        },
        {
          "data": {
            "text/plain": "\u003cFigure size 432x288 with 2 Axes\u003e",
            "image/png": "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\u003d\u003d\n"
          },
          "metadata": {},
          "output_type": "display_data"
        }
      ],
      "source": "from __future__ import absolute_import\nfrom __future__ import division\nfrom __future__ import print_function\n\nimport argparse\nimport numpy as np\nimport os\n\nimport torch\n\nfrom operator import itemgetter\nfrom cnn_model import CNN\nfrom torch.utils.data import DataLoader\nfrom torchvision.datasets import CIFAR10\nfrom torchvision.transforms import transforms\nfrom torch import nn\nimport matplotlib.pyplot as plt\n\n\n# Default constants\nLEARNING_RATE_DEFAULT \u003d 1e-4\nBATCH_SIZE_DEFAULT \u003d 32\nMAX_EPOCHS_DEFAULT \u003d 5000\nEVAL_FREQ_DEFAULT \u003d 500\nOPTIMIZER_DEFAULT \u003d \u0027ADAM\u0027\nDATA_DIR_DEFAULT \u003d \u0027./data\u0027\n\n\nFLAGS \u003d None\n\ndef accuracy(predictions, targets):\n    \"\"\"\n    Computes the prediction accuracy, i.e., the average of correct predictions\n    of the network.\n    Args:\n        predictions: 2D float array of size [number_of_data_samples, n_classes]\n        labels: 2D int array of size [number_of_data_samples, n_classes] with one-hot encoding of ground-truth labels\n    Returns:\n        accuracy: scalar float, the accuracy of predictions.\n    \"\"\"\n    return accuracy\n\ndef train(config):\n    \"\"\"\n    Performs training and evaluation of MLP model.\n    NOTE: You should the model on the whole test set each eval_freq iterations.\n    \"\"\"\n    # YOUR TRAINING CODE GOES HERE\n    transform \u003d transforms.Compose([\n        transforms.ToTensor(),\n        transforms.Normalize((0.5, 0.5, 0.5), (0.5, 0.5, 0.5))\n    ])\n\n    train_data \u003d CIFAR10(DATA_DIR_DEFAULT, train\u003dTrue, download\u003dTrue, transform\u003dtransform)\n    data_loader \u003d DataLoader(train_data, batch_size\u003dconfig.batch_size)\n    print(\"data loaded\")\n    model \u003d CNN(3, 10)\n\n    criterion \u003d nn.CrossEntropyLoss()\n    optimizer \u003d torch.optim.Adam(model.parameters(), lr\u003d1e-4)\n    \n    x_axis \u003d list()\n    loss_list \u003dlist()\n    accuracys \u003d list()\n    \n    for step, (batch_inputs, batch_targets) in enumerate(data_loader):\n        print(step)\n        hit \u003d 0\n        n, dim, _, __ \u003d batch_inputs.size()\n\n        # for i in range(n):\n        #     temp_x \u003d torch.unsqueeze(batch_inputs[i], 0)\n        #     print(temp_x.size())\n        #     y_pre \u003d model.forward(temp_x)\n        y_pre \u003d model.forward(batch_inputs)\n        for i in range(n):\n            y_ev, _ \u003d max(enumerate(y_pre[i]), key\u003ditemgetter(1))\n            y \u003d batch_targets[i].item()\n            if y_ev \u003d\u003d y:\n                hit +\u003d 1\n\n        torch.nn.utils.clip_grad_norm(model.parameters(), max_norm\u003d10)\n\n        # Add more code here ...\n        loss \u003d criterion(y_pre, batch_targets)  # fixme\n        accuracy \u003d hit / n * 100  # fixme\n\n        optimizer.zero_grad()\n        loss.backward()\n        optimizer.step()\n\n        if step % config.eval_freq \u003d\u003d 0:\n            x_axis.append(step)\n            loss_list.append(loss.item())\n            accuracys.append(accuracy)\n\n        if step \u003d\u003d config.max_steps - 1:\n            # If you receive a PyTorch data-loader error, check this bug report:\n            # https://github.com/pytorch/pytorch/pull/9655\n            fig \u003d plt.figure()\n            loss_fig \u003d plt.subplot(2, 1, 1)\n            accuracy_fig \u003d plt.subplot(2, 1, 2)\n            \n            loss_fig.plot(x_axis, loss_list)\n            accuracy_fig.plot(x_axis, accuracys)\n            break\n\n    print(\u0027Done training.\u0027)\n\n\ndef main(config):\n    \"\"\"\n    Main function\n    \"\"\"\n    # print(torch.cuda.is_available())\n    torch.device(\"cuda\")\n    train(config)\n    print(\"finish\")\n\nif __name__ \u003d\u003d \u0027__main__\u0027:\n\n    # Command line arguments\n    parser \u003d argparse.ArgumentParser()\n    parser.add_argument(\u0027--learning_rate\u0027, type \u003d float, default \u003d LEARNING_RATE_DEFAULT,\n                      help\u003d\u0027Learning rate\u0027)\n    parser.add_argument(\u0027--max_steps\u0027, type \u003d int, default \u003d MAX_EPOCHS_DEFAULT,\n                      help\u003d\u0027Number of steps to run trainer.\u0027)\n    parser.add_argument(\u0027--batch_size\u0027, type \u003d int, default \u003d BATCH_SIZE_DEFAULT,\n                      help\u003d\u0027Batch size to run trainer.\u0027)\n    parser.add_argument(\u0027--eval_freq\u0027, type\u003dint, default\u003dEVAL_FREQ_DEFAULT,\n                        help\u003d\u0027Frequency of evaluation on the test set\u0027)\n    parser.add_argument(\u0027--data_dir\u0027, type \u003d str, default \u003d DATA_DIR_DEFAULT,\n                      help\u003d\u0027Directory for storing input data\u0027)\n    FLAGS, unparsed \u003d parser.parse_known_args()\n    config \u003d parser.parse_args(args\u003dlist())\n    main(config)",
      "metadata": {
        "pycharm": {
          "metadata": false,
          "name": "#%%\n",
          "is_executing": false
        }
      }
    },
    {
      "cell_type": "markdown",
      "source": "The first figure is loss.\n\nThe second figure is accuracy.\n\nDue to the hardware performance, I can\u0027t train the mpl with the default parameters even if use the GPU. \nHowever, I train it 100 iterations, the performance is efficienct. \n\n",
      "metadata": {
        "pycharm": {
          "metadata": false,
          "name": "#%% md\n"
        }
      }
    }
  ],
  "metadata": {
    "language_info": {
      "codemirror_mode": {
        "name": "ipython",
        "version": 2
      },
      "file_extension": ".py",
      "mimetype": "text/x-python",
      "name": "python",
      "nbconvert_exporter": "python",
      "pygments_lexer": "ipython2",
      "version": "2.7.6"
    },
    "kernelspec": {
      "name": "python3",
      "language": "python",
      "display_name": "Python 3"
    },
    "stem_cell": {
      "cell_type": "raw",
      "source": "",
      "metadata": {
        "pycharm": {
          "metadata": false
        }
      }
    }
  },
  "nbformat": 4,
  "nbformat_minor": 0
}